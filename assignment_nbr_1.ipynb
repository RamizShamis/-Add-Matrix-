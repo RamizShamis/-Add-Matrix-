{
  "nbformat": 4,
  "nbformat_minor": 0,
  "metadata": {
    "colab": {
      "provenance": [],
      "authorship_tag": "ABX9TyMBkhp4DJBHGtqzfOFw3zgN",
      "include_colab_link": true
    },
    "kernelspec": {
      "name": "python3",
      "display_name": "Python 3"
    },
    "language_info": {
      "name": "python"
    }
  },
  "cells": [
    {
      "cell_type": "markdown",
      "metadata": {
        "id": "view-in-github",
        "colab_type": "text"
      },
      "source": [
        "<a href=\"https://colab.research.google.com/github/RamizShamis/-Add-Matrix-/blob/main/assignment_nbr_1.ipynb\" target=\"_parent\"><img src=\"https://colab.research.google.com/assets/colab-badge.svg\" alt=\"Open In Colab\"/></a>"
      ]
    },
    {
      "cell_type": "code",
      "execution_count": 54,
      "metadata": {
        "id": "-QML2rMd3Civ"
      },
      "outputs": [],
      "source": [
        "#;;;;;;;;;;;;;;;;;;;;;;;;;;;;;;;;;;;;;;;;;;;;;;;;;;; LIST  ;;;;;;;;;;;;;;;;;;;;;;;;;;;;;;;;;;;;;;;;;;;;;;;;;;;\n",
        "# Q1  :Create and Modify Lists\n"
      ]
    },
    {
      "cell_type": "code",
      "source": [
        "\n",
        "fruits = [\"apple\", \"banana\", \"orange\"]\n",
        "print(fruits)"
      ],
      "metadata": {
        "id": "voJosWRG3HTI",
        "colab": {
          "base_uri": "https://localhost:8080/"
        },
        "outputId": "9bf05367-53cf-4d6d-a087-c706916d0fb6"
      },
      "execution_count": 55,
      "outputs": [
        {
          "output_type": "stream",
          "name": "stdout",
          "text": [
            "['apple', 'banana', 'orange']\n"
          ]
        }
      ]
    },
    {
      "cell_type": "code",
      "source": [
        "# add \"grapes\" at end of the list\n",
        "fruits.append(\"grape\")\n",
        "print(fruits)"
      ],
      "metadata": {
        "id": "V4nGNuzY3HOH",
        "colab": {
          "base_uri": "https://localhost:8080/"
        },
        "outputId": "d8e411e4-6130-4626-e624-3cbecd507506"
      },
      "execution_count": 56,
      "outputs": [
        {
          "output_type": "stream",
          "name": "stdout",
          "text": [
            "['apple', 'banana', 'orange', 'grape']\n"
          ]
        }
      ]
    },
    {
      "cell_type": "code",
      "source": [
        "#Insert \"mango\" at position 2 in the list\n",
        "fruits.insert(1, \"mango\")\n",
        "print(fruits)"
      ],
      "metadata": {
        "id": "YKa0__XP3HKE",
        "colab": {
          "base_uri": "https://localhost:8080/"
        },
        "outputId": "ee13b753-729b-4c9b-c1aa-8c7b055eb209"
      },
      "execution_count": 57,
      "outputs": [
        {
          "output_type": "stream",
          "name": "stdout",
          "text": [
            "['apple', 'mango', 'banana', 'orange', 'grape']\n"
          ]
        }
      ]
    },
    {
      "cell_type": "code",
      "source": [
        "#Remove \"banana\" from the list\n",
        "fruits.remove(\"banana\")\n",
        "print(fruits)"
      ],
      "metadata": {
        "id": "IDAUgyY73HGO",
        "colab": {
          "base_uri": "https://localhost:8080/"
        },
        "outputId": "e09d5d87-1fa5-4df4-d6ab-182aa0cc3927"
      },
      "execution_count": 58,
      "outputs": [
        {
          "output_type": "stream",
          "name": "stdout",
          "text": [
            "['apple', 'mango', 'orange', 'grape']\n"
          ]
        }
      ]
    },
    {
      "cell_type": "code",
      "source": [
        "#;;;;;;;;;;;;;;;;;;;;;;;;;;;;;;;;;;;;;;;;;  Q2  ;;;;;;;;;;;;;;;;;;;;;;;;;;;;;;;;;;;;;;;;\n",
        "# List Operations\n",
        "#Create a list numbers\n",
        "numbers = [10, 20, 30, 40, 50]\n",
        "print(numbers)"
      ],
      "metadata": {
        "id": "MDPZ6f0c3HCS",
        "colab": {
          "base_uri": "https://localhost:8080/"
        },
        "outputId": "46b11d8d-1db4-4ebf-b788-a6f09b4c3309"
      },
      "execution_count": 59,
      "outputs": [
        {
          "output_type": "stream",
          "name": "stdout",
          "text": [
            "[10, 20, 30, 40, 50]\n"
          ]
        }
      ]
    },
    {
      "cell_type": "code",
      "source": [
        "# create a list name more_numbers\n",
        "more_numbers = [60, 70, 80]\n"
      ],
      "metadata": {
        "id": "eJ9rmmRL3G-V"
      },
      "execution_count": null,
      "outputs": []
    },
    {
      "cell_type": "code",
      "source": [
        "# combine both list\n",
        "all_numbers = numbers + more_numbers\n",
        "print(all_numbers)"
      ],
      "metadata": {
        "id": "SSN--yhV3F3x",
        "colab": {
          "base_uri": "https://localhost:8080/"
        },
        "outputId": "8fe8f81d-c366-402b-d00a-63d29527eea3"
      },
      "execution_count": 60,
      "outputs": [
        {
          "output_type": "stream",
          "name": "stdout",
          "text": [
            "[10, 20, 30, 40, 50, 60, 70, 80]\n"
          ]
        }
      ]
    },
    {
      "cell_type": "code",
      "source": [
        "# copy the all_numbers\n",
        "numbers_copy = all_numbers.copy()\n",
        "print(numbers_copy)"
      ],
      "metadata": {
        "id": "9ZK_FYX-3FuZ",
        "colab": {
          "base_uri": "https://localhost:8080/"
        },
        "outputId": "54044e9d-f134-4415-e952-2866d023d517"
      },
      "execution_count": 61,
      "outputs": [
        {
          "output_type": "stream",
          "name": "stdout",
          "text": [
            "[10, 20, 30, 40, 50, 60, 70, 80]\n"
          ]
        }
      ]
    },
    {
      "cell_type": "code",
      "source": [],
      "metadata": {
        "id": "wO91W2q33Fkg"
      },
      "execution_count": null,
      "outputs": []
    },
    {
      "cell_type": "code",
      "source": [
        "#;;;;;;;;;;;;;;;;;;;;;;;;;;;;;;;;;;;;;;;;;;;;;;;;    Q3 ;;;;;;;;;;;;;;;;;;;;;;;;;;;;;;;;;;\n",
        "#Sorting and Counting\n",
        "\n",
        "scores = [85, 92, 78, 65, 92, 85, 74]\n",
        "print(scores)"
      ],
      "metadata": {
        "id": "GK-oSye63Fde",
        "colab": {
          "base_uri": "https://localhost:8080/"
        },
        "outputId": "b2ac74e3-4e27-411f-8e6e-94ac96188acf"
      },
      "execution_count": 62,
      "outputs": [
        {
          "output_type": "stream",
          "name": "stdout",
          "text": [
            "[85, 92, 78, 65, 92, 85, 74]\n"
          ]
        }
      ]
    },
    {
      "cell_type": "code",
      "source": [
        "#Sort the list in ascending order\n",
        "scores.sort()\n",
        "print(scores)"
      ],
      "metadata": {
        "id": "eWB__sV03FYN",
        "colab": {
          "base_uri": "https://localhost:8080/"
        },
        "outputId": "c82b5421-1e06-4feb-a884-cdf6c61dc8c6"
      },
      "execution_count": 63,
      "outputs": [
        {
          "output_type": "stream",
          "name": "stdout",
          "text": [
            "[65, 74, 78, 85, 85, 92, 92]\n"
          ]
        }
      ]
    },
    {
      "cell_type": "code",
      "source": [
        "#Sort the list in descending order"
      ],
      "metadata": {
        "id": "rGqRH_uC3FSj"
      },
      "execution_count": null,
      "outputs": []
    },
    {
      "cell_type": "code",
      "source": [],
      "metadata": {
        "id": "N3tHbkuF3FN7"
      },
      "execution_count": null,
      "outputs": []
    },
    {
      "cell_type": "code",
      "source": [
        "# ;;;;;;;;;;;;;;;;;;;;;;;;;;;;;;;;;;;;;;;;Q4 ;;;;;;;;;;;;;;;;;;;;;;;;\n",
        "#List Manipulation\n",
        "#Create a list letters\n",
        "letters = [\"a\", \"b\", \"c\", \"d\", \"e\"]\n",
        "print(letters)\n"
      ],
      "metadata": {
        "id": "kY6a3e-d3FI-",
        "colab": {
          "base_uri": "https://localhost:8080/"
        },
        "outputId": "1b03b265-eb9c-424f-91a1-e5d8180a3e3e"
      },
      "execution_count": 64,
      "outputs": [
        {
          "output_type": "stream",
          "name": "stdout",
          "text": [
            "['a', 'b', 'c', 'd', 'e']\n"
          ]
        }
      ]
    },
    {
      "cell_type": "code",
      "source": [
        "#Use slicing to create a new list with only the first three letters\n",
        "first_three_letters = letters[0:3]\n",
        "print(first_three_letters)"
      ],
      "metadata": {
        "id": "DXsgjgbb3FFa",
        "colab": {
          "base_uri": "https://localhost:8080/"
        },
        "outputId": "74eeb02f-d445-4ada-fe8a-e737d02636da"
      },
      "execution_count": 65,
      "outputs": [
        {
          "output_type": "stream",
          "name": "stdout",
          "text": [
            "['a', 'b', 'c']\n"
          ]
        }
      ]
    },
    {
      "cell_type": "code",
      "source": [
        "# Use slicing to create another list with only the last two letters\n",
        "last_two_letters = letters[-2:]\n",
        "print(last_two_letters)"
      ],
      "metadata": {
        "id": "8yJ2LE9i3FBW",
        "colab": {
          "base_uri": "https://localhost:8080/"
        },
        "outputId": "bf9c83c9-c362-4a9a-9142-6968c9a17379"
      },
      "execution_count": 66,
      "outputs": [
        {
          "output_type": "stream",
          "name": "stdout",
          "text": [
            "['d', 'e']\n"
          ]
        }
      ]
    },
    {
      "cell_type": "code",
      "source": [
        "#Find and print the index of \"c\" in the list\n",
        "letters = [\"a\", \"b\", \"c\", \"d\", \"e\"]\n",
        "index_of_c = letters.index(\"c\")\n",
        "print(index_of_c)"
      ],
      "metadata": {
        "id": "yLG62ofy3E87",
        "colab": {
          "base_uri": "https://localhost:8080/"
        },
        "outputId": "d115cd6a-2a5c-4bc2-c4a2-d9b0aaa0f4f7"
      },
      "execution_count": 67,
      "outputs": [
        {
          "output_type": "stream",
          "name": "stdout",
          "text": [
            "2\n"
          ]
        }
      ]
    },
    {
      "cell_type": "code",
      "source": [
        "#Replace \"d\" with \"z\" in the original list\n",
        "letters = [\"a\", \"b\", \"c\", \"d\", \"e\"]\n",
        "letters[letters.index(\"d\")] = \"z\"\n",
        "print(letters)"
      ],
      "metadata": {
        "id": "ilzsFM9I3E4x",
        "colab": {
          "base_uri": "https://localhost:8080/"
        },
        "outputId": "3f41472a-ef3d-4e58-a08e-78e50dddf2a9"
      },
      "execution_count": 68,
      "outputs": [
        {
          "output_type": "stream",
          "name": "stdout",
          "text": [
            "['a', 'b', 'c', 'z', 'e']\n"
          ]
        }
      ]
    },
    {
      "cell_type": "code",
      "source": [
        "print(letters)"
      ],
      "metadata": {
        "colab": {
          "base_uri": "https://localhost:8080/"
        },
        "id": "XRnJkd3c1hLs",
        "outputId": "b980580d-664d-4a93-8d4b-d3d912bff255"
      },
      "execution_count": 69,
      "outputs": [
        {
          "output_type": "stream",
          "name": "stdout",
          "text": [
            "['a', 'b', 'c', 'z', 'e']\n"
          ]
        }
      ]
    },
    {
      "cell_type": "code",
      "source": [],
      "metadata": {
        "id": "5Y3JGNcQ1hHD"
      },
      "execution_count": null,
      "outputs": []
    },
    {
      "cell_type": "code",
      "source": [],
      "metadata": {
        "id": "5O4k076n1hBy"
      },
      "execution_count": null,
      "outputs": []
    },
    {
      "cell_type": "code",
      "source": [],
      "metadata": {
        "id": "2Q_MIIfI1g9I"
      },
      "execution_count": null,
      "outputs": []
    },
    {
      "cell_type": "code",
      "source": [],
      "metadata": {
        "id": "lsjcUSHn1g5N"
      },
      "execution_count": null,
      "outputs": []
    },
    {
      "cell_type": "code",
      "source": [],
      "metadata": {
        "id": "f8LtLCZg1g1C"
      },
      "execution_count": null,
      "outputs": []
    },
    {
      "cell_type": "code",
      "source": [],
      "metadata": {
        "id": "vEI9I6801gw2"
      },
      "execution_count": null,
      "outputs": []
    },
    {
      "cell_type": "code",
      "source": [],
      "metadata": {
        "id": "ll2vr_qN1gnF"
      },
      "execution_count": null,
      "outputs": []
    }
  ]
}